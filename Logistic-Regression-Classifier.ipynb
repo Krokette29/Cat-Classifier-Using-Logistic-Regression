{
 "cells": [
  {
   "cell_type": "markdown",
   "metadata": {},
   "source": [
    "# 1. Packages"
   ]
  },
  {
   "cell_type": "code",
   "execution_count": 1,
   "metadata": {},
   "outputs": [],
   "source": [
    "# numpy - scientific computing with Python\n",
    "# matplotlib - plot graphs in Python\n",
    "# h5py - interact with a dataset that is stored on an H5 file\n",
    "\n",
    "import numpy as np\n",
    "import matplotlib.pyplot as plt\n",
    "import h5py\n",
    "from lr_utils import load_dataset\n",
    "\n",
    "%matplotlib inline"
   ]
  },
  {
   "cell_type": "markdown",
   "metadata": {},
   "source": [
    "# 2. Data Loading and Preprocess\n",
    "\n",
    "<img src=\"images/image2vector_kiank.png\" style=\"width:650px; height:400px;\">"
   ]
  },
  {
   "cell_type": "code",
   "execution_count": 2,
   "metadata": {},
   "outputs": [
    {
     "name": "stdout",
     "output_type": "stream",
     "text": [
      "y = [0], it's a 'non-cat' picture.\n"
     ]
    },
    {
     "data": {
      "image/png": "[encoded data removed]",
      "text/plain": [
       "<Figure size 432x288 with 1 Axes>"
      ]
     },
     "metadata": {
      "needs_background": "light"
     },
     "output_type": "display_data"
    }
   ],
   "source": [
    "# Loading the data (cat/non-cat)\n",
    "train_set_x_orig, train_set_y, test_set_x_orig, test_set_y, classes = load_dataset()\n",
    "\n",
    "# Example of a picture\n",
    "index = 23\n",
    "plt.imshow(train_set_x_orig[index])\n",
    "print(\"y = \" + str(train_set_y[:, index]) + \", it's a '\" + classes[np.squeeze(train_set_y[:, index])].decode(\"utf-8\") + \"' picture.\")"
   ]
  },
  {
   "cell_type": "code",
   "execution_count": 3,
   "metadata": {},
   "outputs": [
    {
     "name": "stdout",
     "output_type": "stream",
     "text": [
      "train_set_x_orig shape: (209, 64, 64, 3)\n",
      "train_set_y shape: (1, 209)\n",
      "test_set_x_orig shape: (50, 64, 64, 3)\n",
      "test_set_y shape: (1, 50)\n",
      "classes shape: (2,)\n"
     ]
    }
   ],
   "source": [
    "# Print the sizes of data\n",
    "print(\"train_set_x_orig shape: \" + str(train_set_x_orig.shape))\n",
    "print(\"train_set_y shape: \" + str(train_set_y.shape))\n",
    "print(\"test_set_x_orig shape: \" + str(test_set_x_orig.shape))\n",
    "print(\"test_set_y shape: \" + str(test_set_y.shape))\n",
    "print(\"classes shape: \" + str(classes.shape))"
   ]
  },
  {
   "cell_type": "code",
   "execution_count": 4,
   "metadata": {},
   "outputs": [
    {
     "name": "stdout",
     "output_type": "stream",
     "text": [
      "train_set_x_flatten shape: (12288, 209)\n",
      "test_set_x_flatten shape: (12288, 50)\n"
     ]
    }
   ],
   "source": [
    "# Reshape the training and test examples\n",
    "train_set_x_flatten = train_set_x_orig.reshape(train_set_x_orig.shape[0], -1).T\n",
    "test_set_x_flatten = test_set_x_orig.reshape(test_set_x_orig.shape[0], -1).T\n",
    "\n",
    "print(\"train_set_x_flatten shape: \" + str(train_set_x_flatten.shape))\n",
    "print(\"test_set_x_flatten shape: \" + str(test_set_x_flatten.shape))"
   ]
  },
  {
   "cell_type": "code",
   "execution_count": 5,
   "metadata": {},
   "outputs": [],
   "source": [
    "# Standardize the dataset\n",
    "train_set_x = train_set_x_flatten/255.\n",
    "test_set_x = test_set_x_flatten/255."
   ]
  },
  {
   "cell_type": "markdown",
   "metadata": {},
   "source": [
    "# 3. Building the Parts (Helper Functions) of Logistic-Regression-Classifier\n",
    "\n",
    "<img src=\"images/LogReg_kiank.png\" style=\"width:650px;height:400px;\">"
   ]
  },
  {
   "cell_type": "markdown",
   "metadata": {},
   "source": [
    "## 3.1 Sigmoid Functions\n",
    "\n",
    "$$ f(x)=\\frac{1}{1+e^{-x}} $$"
   ]
  },
  {
   "cell_type": "code",
   "execution_count": 6,
   "metadata": {},
   "outputs": [],
   "source": [
    "def sigmoid(z):\n",
    "    \"\"\"\n",
    "    Compute the sigmoid of z\n",
    "    \n",
    "    Arguments:\n",
    "    z -- A scalar of numpy array of any size\n",
    "    \n",
    "    Return:\n",
    "    s -- sigmoid(z)\n",
    "    \"\"\"\n",
    "    \n",
    "    s = 1/(1 + np.exp(-z))\n",
    "    \n",
    "    return s"
   ]
  },
  {
   "cell_type": "code",
   "execution_count": 7,
   "metadata": {},
   "outputs": [
    {
     "name": "stdout",
     "output_type": "stream",
     "text": [
      "Sigmoid([0, 2]) = [0.5        0.88079708]\n"
     ]
    },
    {
     "data": {
      "image/png": "[encoded data removed]",
      "text/plain": [
       "<Figure size 432x288 with 1 Axes>"
      ]
     },
     "metadata": {
      "needs_background": "light"
     },
     "output_type": "display_data"
    }
   ],
   "source": [
    "# Draw the sigmoid function\n",
    "print(\"Sigmoid([0, 2]) = \" + str(sigmoid(np.array([0, 2]))))\n",
    "\n",
    "test_sigmoid_x = np.arange(-10, 10)\n",
    "test_sigmoid_y = sigmoid(test_sigmoid_x)\n",
    "plt.plot(test_sigmoid_x, test_sigmoid_y)\n",
    "plt.xlabel('x')\n",
    "# plt.xlim((-10, 10))\n",
    "plt.ylabel('y')\n",
    "plt.ylim((-0.5, 1.5))\n",
    "plt.yticks(np.arange(-0.5, 1.5, 0.5))\n",
    "plt.title(\"Sigmoid Function\")\n",
    "plt.show()"
   ]
  },
  {
   "cell_type": "markdown",
   "metadata": {},
   "source": [
    "## 3.2 Initializing Parameters"
   ]
  },
  {
   "cell_type": "code",
   "execution_count": 8,
   "metadata": {},
   "outputs": [],
   "source": [
    "def initialize_with_zeros(dim):\n",
    "    \"\"\"\n",
    "    This function initialize w and b to zeros.\n",
    "    \n",
    "    Argument:\n",
    "    dim -- size of vector w\n",
    "    \n",
    "    Return:\n",
    "    w -- initialized vector of shape (dim, 1)\n",
    "    b -- initialized scalar\n",
    "    \"\"\"\n",
    "    \n",
    "    w = np.zeros((dim, 1))\n",
    "    b = 0\n",
    "    \n",
    "    return w, b"
   ]
  },
  {
   "cell_type": "code",
   "execution_count": 9,
   "metadata": {},
   "outputs": [
    {
     "name": "stdout",
     "output_type": "stream",
     "text": [
      "w = [[0.]\n",
      " [0.]\n",
      " [0.]]\n",
      "b = 0\n"
     ]
    }
   ],
   "source": [
    "w, b = initialize_with_zeros(3)\n",
    "print(\"w = \" + str(w))\n",
    "print(\"b = \" + str(b))"
   ]
  },
  {
   "cell_type": "markdown",
   "metadata": {},
   "source": [
    "## 3.3 Forward and Backward Propagation\n",
    "\n",
    "**Forward propagation:**\n",
    "<font color='red'>\n",
    "$$ \n",
    "Z = W^{T}X+b \\\\\n",
    "\\hat{y} = A = sigmoid(Z)\n",
    "$$\n",
    "<font color='black'>\n",
    "\n",
    "**Backward Propagation:**\n",
    "$$ \n",
    "L(Y, A) = -\\frac{1}{m}[YlogA + (1-Y)logA] \\\\\n",
    "\\frac{dL}{dW} = \\frac{dL}{dA}\\frac{dA}{dZ}\\frac{dZ}{dW} \\\\\n",
    "\\frac{dL}{db} = \\frac{dL}{dA}\\frac{dA}{dZ}\\frac{dZ}{db} \\\\\n",
    "\\Downarrow \n",
    "$$\n",
    "<font color='red'>\n",
    "$$ \n",
    "\\frac{dL}{dZ} = \\frac{1}{m}(A - Y) \\\\\n",
    "\\frac{dL}{dW} = \\frac{1}{m}X(\\frac{dL}{dZ})^{T} \\\\\n",
    "\\frac{dL}{db} = \\frac{1}{m}\\sum\\frac{dL}{dZ} = np.mean(dZ) \n",
    "$$"
   ]
  },
  {
   "cell_type": "code",
   "execution_count": 10,
   "metadata": {},
   "outputs": [],
   "source": [
    "def propagate(w, b, X, Y):\n",
    "    \"\"\"\n",
    "    This function calculates a forward propagation to get the number of cost.\n",
    "    Then does a backward propagation to find the derivatives of w and b.\n",
    "    \n",
    "    Arguments:\n",
    "    w -- weights, a numpy array of size (num_px * num_px * 3, 1)\n",
    "    b -- bias, a scalar\n",
    "    X -- input data of size (num_px * num_px * 3, number of examples)\n",
    "    Y -- labels of input data (0 if non-cat, 1 if cat) of size (1, number of examples)\n",
    "    \n",
    "    Return:\n",
    "    cost -- cost of logistic regression using -yloga-(1-y)log(1-a)\n",
    "    \"\"\"\n",
    "    \n",
    "    # number of examples\n",
    "    m = X.shape[1]\n",
    "    \n",
    "    # FORWARD PROPAGATION\n",
    "    A = sigmoid(np.dot(w.T, X) + b)\n",
    "    cost1 = np.dot(Y, np.log(A).T)\n",
    "    cost2 = np.dot(1 - Y, np.log(1 - A).T)\n",
    "    cost = - 1/m * (cost1 + cost2)\n",
    "    cost = np.squeeze(cost)\n",
    "    # cost = np.asscalar(cost)\n",
    "    \n",
    "    # BACKWARD PROPAGATION\n",
    "    dw = 1/m * np.dot(X, (A - Y).T)\n",
    "    db = 1/m * np.sum(A - Y)\n",
    "    \n",
    "    # Make a dictionary of dw and db to grads\n",
    "    grads = {\n",
    "        \"dw\": dw,\n",
    "        \"db\": db\n",
    "    }\n",
    "    \n",
    "    return grads, cost"
   ]
  },
  {
   "cell_type": "code",
   "execution_count": 11,
   "metadata": {},
   "outputs": [
    {
     "name": "stdout",
     "output_type": "stream",
     "text": [
      "dw = [[0.99845601]\n",
      " [2.39507239]]\n",
      "db = 0.001455578136784208\n",
      "cost = 5.801545319394553\n"
     ]
    }
   ],
   "source": [
    "w, b, X, Y = np.array([[1.],[2.]]), 2., np.array([[1.,2.,-1.],[3.,4.,-3.2]]), np.array([[1,0,1]])\n",
    "grads, cost = propagate(w, b, X, Y)\n",
    "print (\"dw = \" + str(grads[\"dw\"]))\n",
    "print (\"db = \" + str(grads[\"db\"]))\n",
    "print (\"cost = \" + str(cost))"
   ]
  },
  {
   "cell_type": "markdown",
   "metadata": {},
   "source": [
    "## 3.4 Optimization\n",
    "\n",
    "$$\n",
    "W = W - \\eta\\frac{dL}{dW} \\\\\n",
    "b = b - \\eta\\frac{dL}{db}\n",
    "$$"
   ]
  },
  {
   "cell_type": "code",
   "execution_count": 12,
   "metadata": {},
   "outputs": [],
   "source": [
    "def optimize(w, b, X, Y, num_iterations, learning_rate, print_cost = False):\n",
    "    \"\"\"\n",
    "    This function calculates the optimized w and b, and calculated the cost.\n",
    "    \n",
    "    Arguments:\n",
    "    w -- weights, a numpy array of size (num_px * num_px * 3, 1)\n",
    "    b -- bias, a scalar\n",
    "    X -- input data of size (num_px * num_px * 3, number of examples)\n",
    "    Y -- labels of input data (0 if non-cat, 1 if cat) of size (1, number of examples)\n",
    "    num_iterations -- number of iterations, integer\n",
    "    learning_rate -- learning rate, float\n",
    "    print_cost -- bool value (0 if not print, 1 if print cost)\n",
    "    \n",
    "    Return:\n",
    "    params -- dictionary storing parameters of weights and bias\n",
    "    grads -- dictionary storing dw and db\n",
    "    costs -- an array of the costs, every 100 iterations\n",
    "    \"\"\"\n",
    "    \n",
    "    costs = []\n",
    "    \n",
    "    for i in range(num_iterations):\n",
    "        # Cost and gradient calculation\n",
    "        grads, cost = propagate(w, b, X, Y)\n",
    "        \n",
    "        # Retrieve derivatives from grads\n",
    "        dw = grads[\"dw\"]\n",
    "        db = grads[\"db\"]\n",
    "        \n",
    "        # Update rule\n",
    "        w = w - learning_rate * dw\n",
    "        b = b - learning_rate * db\n",
    "        \n",
    "        # Record the costs\n",
    "        if i % 100 == 0:\n",
    "            costs.append(cost)\n",
    "            \n",
    "        # Print the cost every 100 iterations\n",
    "        if print_cost and i % 100 == 0:\n",
    "            print(\"Cost after iterations %i: %f\" % (i, cost)) # 这里%表示占位符\n",
    "            \n",
    "    params = {\n",
    "        \"w\": w,\n",
    "        \"b\": b\n",
    "    }\n",
    "    \n",
    "    grads = {\n",
    "        \"dw\": dw,\n",
    "        \"db\": db\n",
    "    }\n",
    "    \n",
    "    return params, grads, costs"
   ]
  },
  {
   "cell_type": "code",
   "execution_count": 13,
   "metadata": {},
   "outputs": [
    {
     "name": "stdout",
     "output_type": "stream",
     "text": [
      "w = [[0.19033591]\n",
      " [0.12259159]]\n",
      "b = 1.9253598300845747\n",
      "dw = [[0.67752042]\n",
      " [1.41625495]]\n",
      "db = 0.21919450454067652\n"
     ]
    }
   ],
   "source": [
    "params, grads, costs = optimize(w, b, X, Y, num_iterations= 100, learning_rate = 0.009, print_cost = False)\n",
    "\n",
    "print (\"w = \" + str(params[\"w\"]))\n",
    "print (\"b = \" + str(params[\"b\"]))\n",
    "print (\"dw = \" + str(grads[\"dw\"]))\n",
    "print (\"db = \" + str(grads[\"db\"]))"
   ]
  },
  {
   "cell_type": "markdown",
   "metadata": {},
   "source": [
    "## 3.5 Prediction"
   ]
  },
  {
   "cell_type": "code",
   "execution_count": 14,
   "metadata": {},
   "outputs": [],
   "source": [
    "def predict(w, b, X):\n",
    "    \"\"\"\n",
    "    This function makes a prediction of the test data.\n",
    "    \n",
    "    Arguments:\n",
    "    w -- weights, a numpy array of size(dim_px * dim_px * 3, 1)\n",
    "    b -- bias, a scalar\n",
    "    X -- test data of size (dim_px * dim_px * 3, number of examples)\n",
    "    \n",
    "    Return:\n",
    "    Y_prediction -- a numpy array of size (1, number of examples), storing the results of predictions\n",
    "    \"\"\"\n",
    "    \n",
    "    m = X.shape[1]\n",
    "    Y_prediction = np.zeros((1, m))\n",
    "    w = w.reshape(X.shape[0], 1)\n",
    "    \n",
    "    # Activation function\n",
    "    A = sigmoid(np.dot(w.T, X) + b)\n",
    "    \n",
    "    # Predict the results using activated values\n",
    "    for i in range(m):\n",
    "        if A[0, i] > 0.5:\n",
    "            Y_prediction[0, i] = 1\n",
    "    \n",
    "    return Y_prediction"
   ]
  },
  {
   "cell_type": "code",
   "execution_count": 15,
   "metadata": {},
   "outputs": [
    {
     "name": "stdout",
     "output_type": "stream",
     "text": [
      "predictions = [[1. 1. 0.]]\n"
     ]
    }
   ],
   "source": [
    "w = np.array([[0.1124579],[0.23106775]])\n",
    "b = -0.3\n",
    "X = np.array([[1.,-1.1,-3.2],[1.2,2.,0.1]])\n",
    "print (\"predictions = \" + str(predict(w, b, X)))"
   ]
  },
  {
   "cell_type": "markdown",
   "metadata": {},
   "source": [
    "# 4. Merge All Functons into a Model"
   ]
  },
  {
   "cell_type": "code",
   "execution_count": 16,
   "metadata": {},
   "outputs": [],
   "source": [
    "def model(X_train, Y_train, X_test, Y_test, num_iterations = 2000, learning_rate = 0.5, print_cost = False):\n",
    "    \"\"\"\n",
    "    This function merges all the funcions above to a model.\n",
    "    \n",
    "    Arguments:\n",
    "    X_train -- training data, numpy array of size (dim_px * dim_px * 3, number of training set examples)\n",
    "    Y_train -- training output labels, numpy array of size (1, number of training set examples)\n",
    "    X_test -- test data, numpy array of size (dim_px * dim_px * 3, number of test set examples)\n",
    "    Y_test -- test output labels, numpy array of size (1, number of test set examples)\n",
    "    num_iterations -- number of iterations, integer\n",
    "    learning_rate -- learning rate, float\n",
    "    print_cost -- bool value (0 if not print cost, 1 if print cost)\n",
    "    \n",
    "    Return:\n",
    "    d -- dictionary of all informaions\n",
    "    \"\"\"\n",
    "    \n",
    "    # Initialize\n",
    "    w, b = initialize_with_zeros(X_train.shape[0])\n",
    "    \n",
    "    # Gradient descnet\n",
    "    params, grads, costs = optimize(w, b, X_train, Y_train, num_iterations, learning_rate, print_cost)\n",
    "    \n",
    "    # Retrieve parameters from dictionary params\n",
    "    w = params[\"w\"]\n",
    "    b = params[\"b\"]\n",
    "    \n",
    "    # Predict train and test set examples\n",
    "    Y_prediction_train = predict(w, b, X_train)\n",
    "    Y_prediction_test = predict(w, b, X_test)\n",
    "    \n",
    "    # Print train/test errors\n",
    "    print(\"train accuracy: {} %\".format(100 - np.mean(np.abs(Y_train - Y_prediction_train)) * 100))\n",
    "    print(\"test accuracy: {} %\".format(100 - np.mean(np.abs(Y_test - Y_prediction_test)) * 100))\n",
    "    \n",
    "    # Dictionary of all informations\n",
    "    d = {\n",
    "        \"costs\": costs,\n",
    "        \"Y_prediction_test\": Y_prediction_test,\n",
    "        \"Y_prediction_train\": Y_prediction_train,\n",
    "        \"w\": w,\n",
    "        \"b\": b,\n",
    "        \"learning_rate\": learning_rate,\n",
    "        \"num_iterations\": num_iterations\n",
    "    }\n",
    "    \n",
    "    return d"
   ]
  },
  {
   "cell_type": "code",
   "execution_count": 17,
   "metadata": {},
   "outputs": [
    {
     "name": "stdout",
     "output_type": "stream",
     "text": [
      "Cost after iterations 0: 0.693147\n",
      "Cost after iterations 100: 0.584508\n",
      "Cost after iterations 200: 0.466949\n",
      "Cost after iterations 300: 0.376007\n",
      "Cost after iterations 400: 0.331463\n",
      "Cost after iterations 500: 0.303273\n",
      "Cost after iterations 600: 0.279880\n",
      "Cost after iterations 700: 0.260042\n",
      "Cost after iterations 800: 0.242941\n",
      "Cost after iterations 900: 0.228004\n",
      "Cost after iterations 1000: 0.214820\n",
      "Cost after iterations 1100: 0.203078\n",
      "Cost after iterations 1200: 0.192544\n",
      "Cost after iterations 1300: 0.183033\n",
      "Cost after iterations 1400: 0.174399\n",
      "Cost after iterations 1500: 0.166521\n",
      "Cost after iterations 1600: 0.159305\n",
      "Cost after iterations 1700: 0.152667\n",
      "Cost after iterations 1800: 0.146542\n",
      "Cost after iterations 1900: 0.140872\n",
      "train accuracy: 99.04306220095694 %\n",
      "test accuracy: 70.0 %\n"
     ]
    }
   ],
   "source": [
    "d = model(train_set_x, train_set_y, test_set_x, test_set_y, num_iterations = 2000, learning_rate = 0.005, print_cost = True)"
   ]
  },
  {
   "cell_type": "markdown",
   "metadata": {},
   "source": [
    "# 5. Postprocess"
   ]
  },
  {
   "cell_type": "markdown",
   "metadata": {},
   "source": [
    "## 5.1 Plot Learning Curve"
   ]
  },
  {
   "cell_type": "code",
   "execution_count": 18,
   "metadata": {},
   "outputs": [
    {
     "data": {
      "image/png": "[encoded data removed]",
      "text/plain": [
       "<Figure size 432x288 with 1 Axes>"
      ]
     },
     "metadata": {
      "needs_background": "light"
     },
     "output_type": "display_data"
    }
   ],
   "source": [
    "costs = np.squeeze(d[\"costs\"])\n",
    "plt.plot(costs)\n",
    "plt.xlabel(\"iteraions (per hundred)\")\n",
    "plt.ylabel(\"costs\")\n",
    "plt.title(\"Learning Cuve\")\n",
    "plt.show()"
   ]
  },
  {
   "cell_type": "markdown",
   "metadata": {},
   "source": [
    "## 5.2 Test with additional photos"
   ]
  }
 ],
 "metadata": {
  "kernelspec": {
   "display_name": "Python 3",
   "language": "python",
   "name": "python3"
  },
  "language_info": {
   "codemirror_mode": {
    "name": "ipython",
    "version": 3
   },
   "file_extension": ".py",
   "mimetype": "text/x-python",
   "name": "python",
   "nbconvert_exporter": "python",
   "pygments_lexer": "ipython3",
   "version": "3.7.1"
  }
 },
 "nbformat": 4,
 "nbformat_minor": 2
}
